{
 "cells": [
  {
   "cell_type": "markdown",
   "metadata": {},
   "source": [
    "# Segmenting and Clustering Neighborhoods in Toronto\n",
    "## Part 1 - Wikipedia Scraping"
   ]
  },
  {
   "cell_type": "markdown",
   "metadata": {},
   "source": [
    "*We start by downloading the Wikipedia page*"
   ]
  },
  {
   "cell_type": "code",
   "execution_count": 91,
   "metadata": {
    "scrolled": true
   },
   "outputs": [
    {
     "name": "stdout",
     "output_type": "stream",
     "text": [
      "URL retrieved successfully\n"
     ]
    }
   ],
   "source": [
    "# For making HTTP requests\n",
    "#!pip3 install requests\n",
    "import requests\n",
    "\n",
    "url = \"https://en.wikipedia.org/wiki/List_of_postal_codes_of_Canada:_M\"\n",
    "r = requests.get(url)\n",
    "if (r.status_code == 200):\n",
    "    print(\"URL retrieved successfully\")\n",
    "else:\n",
    "    print(\"Error: could not retrieve URL\")"
   ]
  },
  {
   "cell_type": "markdown",
   "metadata": {},
   "source": [
    "*We use BeautifulSoup to isolate the postal code table HTML*"
   ]
  },
  {
   "cell_type": "code",
   "execution_count": 89,
   "metadata": {
    "scrolled": true
   },
   "outputs": [],
   "source": [
    "# Install BeautifulSoup\n",
    "#!pip3 install beautifulsoup4\n",
    "\n",
    "# Install additional BS parsers\n",
    "#!pip3 install lxml html5lib\n",
    "\n",
    "# Finally, import it\n",
    "from bs4 import BeautifulSoup\n",
    "\n",
    "# Get table markup\n",
    "soup = BeautifulSoup(r.text)\n",
    "postcode_html = soup.find_all(\"table\", class_=\"wikitable sortable\")"
   ]
  },
  {
   "cell_type": "markdown",
   "metadata": {},
   "source": [
    "*Now we use Pandas to convert the HTML into a data frame*"
   ]
  },
  {
   "cell_type": "code",
   "execution_count": 90,
   "metadata": {
    "scrolled": true
   },
   "outputs": [
    {
     "data": {
      "text/plain": [
       "(103, 3)"
      ]
     },
     "execution_count": 90,
     "metadata": {},
     "output_type": "execute_result"
    }
   ],
   "source": [
    "# Read table into dataframe\n",
    "import pandas as pd\n",
    "postcodes = pd.read_html(postcode_html[0].prettify(), flavor=\"bs4\")\n",
    "\n",
    "pc = postcodes[0]\n",
    "pc_filtered = pc[pc['Borough'] != 'Not assigned']\n",
    "pc_filtered.columns = ['PostalCode', 'Borough', 'Neighborhood']\n",
    "pc_filtered.shape"
   ]
  },
  {
   "cell_type": "code",
   "execution_count": null,
   "metadata": {},
   "outputs": [],
   "source": []
  }
 ],
 "metadata": {
  "kernelspec": {
   "display_name": "Python 3",
   "language": "python",
   "name": "python3"
  },
  "language_info": {
   "codemirror_mode": {
    "name": "ipython",
    "version": 3
   },
   "file_extension": ".py",
   "mimetype": "text/x-python",
   "name": "python",
   "nbconvert_exporter": "python",
   "pygments_lexer": "ipython3",
   "version": "3.8.5"
  }
 },
 "nbformat": 4,
 "nbformat_minor": 4
}
